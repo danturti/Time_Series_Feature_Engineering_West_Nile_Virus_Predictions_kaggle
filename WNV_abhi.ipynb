{
 "cells": [
  {
   "cell_type": "code",
   "execution_count": 20,
   "metadata": {},
   "outputs": [],
   "source": [
    "import pandas as pd\n",
    "import numpy as np\n",
    "import matplotlib.pyplot as plt\n",
    "import seaborn as sns\n",
    "\n",
    "from math import radians, sin, cos, asin, sqrt\n",
    "from sklearn.metrics import confusion_matrix, roc_curve, auc\n",
    "\n",
    "%matplotlib inline"
   ]
  },
  {
   "cell_type": "code",
   "execution_count": 21,
   "metadata": {},
   "outputs": [],
   "source": [
    "spray = pd.read_csv('./data/west_nile/input/spray.csv')\n",
    "weather = pd.read_csv('./data/west_nile/input/weather.csv')\n",
    "train = pd.read_csv('./data/west_nile/input/train.csv')\n",
    "sample = pd.read_csv('./data/west_nile/input/SampleSubmission.csv')\n",
    "test = pd.read_csv('./data/west_nile/input/test.csv')"
   ]
  },
  {
   "cell_type": "code",
   "execution_count": 22,
   "metadata": {},
   "outputs": [],
   "source": [
    "def dist(lat1, lon1, lat2, lon2):\n",
    "    '''Calculates the distance between two lat-long points.'''\n",
    "    \n",
    "    R = 3959.87433 # this is in miles.  For Earth radius in kilometers use 6372.8 km\n",
    "\n",
    "    dlat = radians(lat2 - lat1)\n",
    "    dlon = radians(lon2 - lon1)\n",
    "    lat1 = radians(lat1)\n",
    "    lat2 = radians(lat2)\n",
    "\n",
    "    a = sin(dlat/2)**2 + cos(lat1)*cos(lat2)*sin(dlon/2)**2\n",
    "    c = 2*asin(sqrt(a))\n",
    "    return R * c"
   ]
  },
  {
   "cell_type": "code",
   "execution_count": 23,
   "metadata": {},
   "outputs": [],
   "source": [
    "def EDA(df):\n",
    "    null_vals = df.isnull().sum()[df.isnull().sum() > 0] \n",
    "    shape = df.shape\n",
    "    dtypes = df.dtypes\n",
    "    print('Nulls:', null_vals)\n",
    "    print('Shape:', shape)\n",
    "    print('Data Types:', dtypes)"
   ]
  },
  {
   "cell_type": "code",
   "execution_count": 24,
   "metadata": {},
   "outputs": [
    {
     "name": "stdout",
     "output_type": "stream",
     "text": [
      "Nulls: Series([], dtype: int64)\n",
      "Shape: (10506, 12)\n",
      "Data Types: Date                       object\n",
      "Address                    object\n",
      "Species                    object\n",
      "Block                       int64\n",
      "Street                     object\n",
      "Trap                       object\n",
      "AddressNumberAndStreet     object\n",
      "Latitude                  float64\n",
      "Longitude                 float64\n",
      "AddressAccuracy             int64\n",
      "NumMosquitos                int64\n",
      "WnvPresent                  int64\n",
      "dtype: object\n",
      "None\n",
      "Nulls: Series([], dtype: int64)\n",
      "Shape: (116293, 11)\n",
      "Data Types: Id                          int64\n",
      "Date                       object\n",
      "Address                    object\n",
      "Species                    object\n",
      "Block                       int64\n",
      "Street                     object\n",
      "Trap                       object\n",
      "AddressNumberAndStreet     object\n",
      "Latitude                  float64\n",
      "Longitude                 float64\n",
      "AddressAccuracy             int64\n",
      "dtype: object\n",
      "None\n",
      "Nulls: Time    584\n",
      "dtype: int64\n",
      "Shape: (14835, 4)\n",
      "Data Types: Date          object\n",
      "Time          object\n",
      "Latitude     float64\n",
      "Longitude    float64\n",
      "dtype: object\n",
      "None\n",
      "Nulls: Series([], dtype: int64)\n",
      "Shape: (2944, 22)\n",
      "Data Types: Station          int64\n",
      "Date            object\n",
      "Tmax             int64\n",
      "Tmin             int64\n",
      "Tavg            object\n",
      "Depart          object\n",
      "DewPoint         int64\n",
      "WetBulb         object\n",
      "Heat            object\n",
      "Cool            object\n",
      "Sunrise         object\n",
      "Sunset          object\n",
      "CodeSum         object\n",
      "Depth           object\n",
      "Water1          object\n",
      "SnowFall        object\n",
      "PrecipTotal     object\n",
      "StnPressure     object\n",
      "SeaLevel        object\n",
      "ResultSpeed    float64\n",
      "ResultDir        int64\n",
      "AvgSpeed        object\n",
      "dtype: object\n",
      "None\n",
      "Nulls: Series([], dtype: int64)\n",
      "Shape: (116293, 2)\n",
      "Data Types: Id            int64\n",
      "WnvPresent    int64\n",
      "dtype: object\n",
      "None\n"
     ]
    }
   ],
   "source": [
    "print(EDA(train))\n",
    "print(EDA(test))\n",
    "print(EDA(spray))\n",
    "print(EDA(weather))\n",
    "print(EDA(sample))"
   ]
  },
  {
   "cell_type": "code",
   "execution_count": 25,
   "metadata": {},
   "outputs": [],
   "source": [
    "# date is an object an int\n",
    "def convert_date(df):\n",
    "    df['Date'] = pd.to_datetime(df['Date'])"
   ]
  },
  {
   "cell_type": "code",
   "execution_count": 26,
   "metadata": {},
   "outputs": [],
   "source": [
    "convert_date(train)\n",
    "convert_date(test)\n",
    "convert_date(weather)"
   ]
  },
  {
   "cell_type": "code",
   "execution_count": 27,
   "metadata": {},
   "outputs": [],
   "source": [
    "#spray date\n",
    "spray['Date'] = pd.to_datetime(spray['Date'])\n",
    "spray['am_pm'] = spray['Time'].apply(lambda x: str(x).split()[-1])\n",
    "spray['Time'] = spray['Time'].apply(lambda x: str(x).split()[0])\n",
    "spray['Time'] = pd.to_datetime(spray['Time'], format = '%H:%M:%S')"
   ]
  },
  {
   "cell_type": "code",
   "execution_count": 28,
   "metadata": {},
   "outputs": [
    {
     "data": {
      "image/png": "[encoded data removed]",
      "text/plain": [
       "<Figure size 432x288 with 1 Axes>"
      ]
     },
     "metadata": {},
     "output_type": "display_data"
    }
   ],
   "source": [
    "#plotted mosquitos by trap by date\n",
    "train[['Date', 'Trap', 'NumMosquitos']].groupby(by = ['Date','Trap'])['Date','Trap','NumMosquitos'] \\\n",
    "    .sum().reset_index().sort_values('NumMosquitos', ascending = False).set_index('Date').plot(style = '.')\n",
    "    \n",
    "plt.title('Mosquitos by Trap over Time')\n",
    "plt.xlabel('Year')\n",
    "plt.ylabel('Mosquitos at Traps');"
   ]
  },
  {
   "cell_type": "code",
   "execution_count": 29,
   "metadata": {},
   "outputs": [
    {
     "data": {
      "image/png": "[encoded data removed]",
      "text/plain": [
       "<Figure size 432x288 with 1 Axes>"
      ]
     },
     "metadata": {},
     "output_type": "display_data"
    }
   ],
   "source": [
    "#plotted WNV incidents by trap\n",
    "train[['Date', 'Trap','WnvPresent']].groupby(by = ['Date','Trap'])['Date','Trap','WnvPresent'] \\\n",
    "    .sum().reset_index().sort_values('WnvPresent', ascending = False).set_index('Date').plot(style = '.')\n",
    "    \n",
    "plt.title('Positive WnV Cases by Trap over Time')\n",
    "plt.xlabel('Year')\n",
    "plt.ylabel('WnV Present at Traps');"
   ]
  },
  {
   "cell_type": "code",
   "execution_count": 30,
   "metadata": {},
   "outputs": [],
   "source": [
    "def closest_station(df):\n",
    "    station1lat = 41.995\n",
    "    station1long = -87.933\n",
    "    station2lat = 41.786\n",
    "    station2long = -87.752 \n",
    "\n",
    "    df['Station'] = 1\n",
    "\n",
    "    for i in range(df.shape[0]):\n",
    "        if dist(station1lat, station1long, df.loc[i, 'Latitude'], df.loc[i, 'Longitude']) > dist(station2lat, station2long, df.loc[i, 'Latitude'], df.loc[i, 'Longitude']):\n",
    "            df.loc[i,'Station'] = 2"
   ]
  },
  {
   "cell_type": "code",
   "execution_count": 31,
   "metadata": {},
   "outputs": [],
   "source": [
    "#assign a station to traps in train and test data\n",
    "closest_station(train)\n",
    "closest_station(test)"
   ]
  },
  {
   "cell_type": "code",
   "execution_count": 32,
   "metadata": {},
   "outputs": [
    {
     "data": {
      "text/html": [
       "<div>\n",
       "<style scoped>\n",
       "    .dataframe tbody tr th:only-of-type {\n",
       "        vertical-align: middle;\n",
       "    }\n",
       "\n",
       "    .dataframe tbody tr th {\n",
       "        vertical-align: top;\n",
       "    }\n",
       "\n",
       "    .dataframe thead th {\n",
       "        text-align: right;\n",
       "    }\n",
       "</style>\n",
       "<table border=\"1\" class=\"dataframe\">\n",
       "  <thead>\n",
       "    <tr style=\"text-align: right;\">\n",
       "      <th></th>\n",
       "      <th>Date</th>\n",
       "      <th>Address</th>\n",
       "      <th>Species</th>\n",
       "      <th>Block</th>\n",
       "      <th>Street</th>\n",
       "      <th>Trap</th>\n",
       "      <th>AddressNumberAndStreet</th>\n",
       "      <th>Latitude</th>\n",
       "      <th>Longitude</th>\n",
       "      <th>AddressAccuracy</th>\n",
       "      <th>NumMosquitos</th>\n",
       "      <th>WnvPresent</th>\n",
       "      <th>Station</th>\n",
       "    </tr>\n",
       "  </thead>\n",
       "  <tbody>\n",
       "    <tr>\n",
       "      <th>0</th>\n",
       "      <td>2007-05-29</td>\n",
       "      <td>4100 North Oak Park Avenue, Chicago, IL 60634,...</td>\n",
       "      <td>CULEX PIPIENS/RESTUANS</td>\n",
       "      <td>41</td>\n",
       "      <td>N OAK PARK AVE</td>\n",
       "      <td>T002</td>\n",
       "      <td>4100  N OAK PARK AVE, Chicago, IL</td>\n",
       "      <td>41.954690</td>\n",
       "      <td>-87.800991</td>\n",
       "      <td>9</td>\n",
       "      <td>1</td>\n",
       "      <td>0</td>\n",
       "      <td>1</td>\n",
       "    </tr>\n",
       "    <tr>\n",
       "      <th>1</th>\n",
       "      <td>2007-05-29</td>\n",
       "      <td>4100 North Oak Park Avenue, Chicago, IL 60634,...</td>\n",
       "      <td>CULEX RESTUANS</td>\n",
       "      <td>41</td>\n",
       "      <td>N OAK PARK AVE</td>\n",
       "      <td>T002</td>\n",
       "      <td>4100  N OAK PARK AVE, Chicago, IL</td>\n",
       "      <td>41.954690</td>\n",
       "      <td>-87.800991</td>\n",
       "      <td>9</td>\n",
       "      <td>1</td>\n",
       "      <td>0</td>\n",
       "      <td>1</td>\n",
       "    </tr>\n",
       "    <tr>\n",
       "      <th>2</th>\n",
       "      <td>2007-05-29</td>\n",
       "      <td>6200 North Mandell Avenue, Chicago, IL 60646, USA</td>\n",
       "      <td>CULEX RESTUANS</td>\n",
       "      <td>62</td>\n",
       "      <td>N MANDELL AVE</td>\n",
       "      <td>T007</td>\n",
       "      <td>6200  N MANDELL AVE, Chicago, IL</td>\n",
       "      <td>41.994991</td>\n",
       "      <td>-87.769279</td>\n",
       "      <td>9</td>\n",
       "      <td>1</td>\n",
       "      <td>0</td>\n",
       "      <td>1</td>\n",
       "    </tr>\n",
       "  </tbody>\n",
       "</table>\n",
       "</div>"
      ],
      "text/plain": [
       "        Date                                            Address  \\\n",
       "0 2007-05-29  4100 North Oak Park Avenue, Chicago, IL 60634,...   \n",
       "1 2007-05-29  4100 North Oak Park Avenue, Chicago, IL 60634,...   \n",
       "2 2007-05-29  6200 North Mandell Avenue, Chicago, IL 60646, USA   \n",
       "\n",
       "                  Species  Block           Street  Trap  \\\n",
       "0  CULEX PIPIENS/RESTUANS     41   N OAK PARK AVE  T002   \n",
       "1          CULEX RESTUANS     41   N OAK PARK AVE  T002   \n",
       "2          CULEX RESTUANS     62    N MANDELL AVE  T007   \n",
       "\n",
       "              AddressNumberAndStreet   Latitude  Longitude  AddressAccuracy  \\\n",
       "0  4100  N OAK PARK AVE, Chicago, IL  41.954690 -87.800991                9   \n",
       "1  4100  N OAK PARK AVE, Chicago, IL  41.954690 -87.800991                9   \n",
       "2   6200  N MANDELL AVE, Chicago, IL  41.994991 -87.769279                9   \n",
       "\n",
       "   NumMosquitos  WnvPresent  Station  \n",
       "0             1           0        1  \n",
       "1             1           0        1  \n",
       "2             1           0        1  "
      ]
     },
     "execution_count": 32,
     "metadata": {},
     "output_type": "execute_result"
    }
   ],
   "source": [
    "train.head(3)"
   ]
  },
  {
   "cell_type": "code",
   "execution_count": 34,
   "metadata": {},
   "outputs": [],
   "source": [
    "weather.drop(columns = ['SeaLevel','CodeSum', 'Sunrise', 'Sunset','Depart','Depth','Water1', 'SnowFall', 'Cool', 'Heat','StnPressure', 'AvgSpeed','ResultSpeed','ResultDir'], inplace = True)"
   ]
  },
  {
   "cell_type": "code",
   "execution_count": 35,
   "metadata": {},
   "outputs": [],
   "source": [
    "#filling in missing(M) and trace(T)\n",
    "weather_dataset = weather.columns.tolist()\n",
    "\n",
    "for col in weather_dataset:\n",
    "    for row in range(weather.shape[0]):\n",
    "        if weather.loc[row, col] == 'M' or weather.loc[row, col] == '  T':\n",
    "            weather.loc[row, col] = weather.loc[row - 1, col]"
   ]
  },
  {
   "cell_type": "code",
   "execution_count": 36,
   "metadata": {},
   "outputs": [],
   "source": [
    "weather_object_dtypes = ['Tavg', 'WetBulb', 'PrecipTotal']\n",
    "\n",
    "for col in weather_object_dtypes:\n",
    "    weather[col] = pd.to_numeric(weather[col])"
   ]
  },
  {
   "cell_type": "code",
   "execution_count": 37,
   "metadata": {},
   "outputs": [
    {
     "data": {
      "text/html": [
       "<div>\n",
       "<style scoped>\n",
       "    .dataframe tbody tr th:only-of-type {\n",
       "        vertical-align: middle;\n",
       "    }\n",
       "\n",
       "    .dataframe tbody tr th {\n",
       "        vertical-align: top;\n",
       "    }\n",
       "\n",
       "    .dataframe thead th {\n",
       "        text-align: right;\n",
       "    }\n",
       "</style>\n",
       "<table border=\"1\" class=\"dataframe\">\n",
       "  <thead>\n",
       "    <tr style=\"text-align: right;\">\n",
       "      <th></th>\n",
       "      <th>Station</th>\n",
       "      <th>Date</th>\n",
       "      <th>Tmax</th>\n",
       "      <th>Tmin</th>\n",
       "      <th>Tavg</th>\n",
       "      <th>DewPoint</th>\n",
       "      <th>WetBulb</th>\n",
       "      <th>PrecipTotal</th>\n",
       "    </tr>\n",
       "  </thead>\n",
       "  <tbody>\n",
       "    <tr>\n",
       "      <th>0</th>\n",
       "      <td>1</td>\n",
       "      <td>2007-05-01</td>\n",
       "      <td>83</td>\n",
       "      <td>50</td>\n",
       "      <td>67</td>\n",
       "      <td>51</td>\n",
       "      <td>56</td>\n",
       "      <td>0.0</td>\n",
       "    </tr>\n",
       "    <tr>\n",
       "      <th>1</th>\n",
       "      <td>2</td>\n",
       "      <td>2007-05-01</td>\n",
       "      <td>84</td>\n",
       "      <td>52</td>\n",
       "      <td>68</td>\n",
       "      <td>51</td>\n",
       "      <td>57</td>\n",
       "      <td>0.0</td>\n",
       "    </tr>\n",
       "    <tr>\n",
       "      <th>2</th>\n",
       "      <td>1</td>\n",
       "      <td>2007-05-02</td>\n",
       "      <td>59</td>\n",
       "      <td>42</td>\n",
       "      <td>51</td>\n",
       "      <td>42</td>\n",
       "      <td>47</td>\n",
       "      <td>0.0</td>\n",
       "    </tr>\n",
       "  </tbody>\n",
       "</table>\n",
       "</div>"
      ],
      "text/plain": [
       "   Station       Date  Tmax  Tmin  Tavg  DewPoint  WetBulb  PrecipTotal\n",
       "0        1 2007-05-01    83    50    67        51       56          0.0\n",
       "1        2 2007-05-01    84    52    68        51       57          0.0\n",
       "2        1 2007-05-02    59    42    51        42       47          0.0"
      ]
     },
     "execution_count": 37,
     "metadata": {},
     "output_type": "execute_result"
    }
   ],
   "source": [
    "weather.head(3)"
   ]
  },
  {
   "cell_type": "code",
   "execution_count": 38,
   "metadata": {},
   "outputs": [],
   "source": [
    "#merge weather data with train and test data\n",
    "\n",
    "train = train.merge(weather, how = 'left', on = ['Date','Station'])\n",
    "test = test.merge(weather, how = 'left', on = ['Date', 'Station'])"
   ]
  },
  {
   "cell_type": "code",
   "execution_count": 39,
   "metadata": {},
   "outputs": [],
   "source": [
    "# Drop num mosquitos column, not present in test set\n",
    "train.drop(columns = 'NumMosquitos', inplace = True)"
   ]
  },
  {
   "cell_type": "code",
   "execution_count": 40,
   "metadata": {},
   "outputs": [],
   "source": [
    "def mosquito(df):\n",
    "    #split wnv transmitting mosquito species lines into separate columns\n",
    "    df['CULEX PIPIENS'] = 0\n",
    "    df['CULEX RESTUANS'] = 0\n",
    "    \n",
    "    for row in range(df.shape[0]):\n",
    "        if df.loc[row, 'Species'] == 'CULEX PIPIENS/RESTUANS':\n",
    "            df.loc[row, 'CULEX PIPIENS'] == 1\n",
    "            df.loc[row, 'CULEX RESTUANS'] == 1\n",
    "        elif df.loc[row, 'Species'] == 'CULEX PIPIENS':\n",
    "            df.loc[row, 'CULEX PIPIENS'] == 1\n",
    "        elif df.loc[row, 'Species'] == 'CULEX RESTUANS':\n",
    "            df.loc[row, 'CULEX RESTUANS'] == 1\n",
    "            \n",
    "    \n",
    "    df.drop(columns = ['Species'], inplace = True)"
   ]
  },
  {
   "cell_type": "code",
   "execution_count": 41,
   "metadata": {},
   "outputs": [],
   "source": [
    "#make dummies for mosquito species\n",
    "mosquito(train)\n",
    "mosquito(test)"
   ]
  },
  {
   "cell_type": "code",
   "execution_count": 43,
   "metadata": {},
   "outputs": [],
   "source": [
    "train['wet_temp'] = train['PrecipTotal']*train['Tavg']\n",
    "train['wet_temp_roll'] = train['wet_temp'].rolling(3).mean()\n",
    "train['wet_temp_roll'].fillna(0, inplace = True)\n",
    "train['wet_temp_roll_shift14'] = train['wet_temp_roll'].shift(14)\n",
    "train['wet_temp_roll_shift14'].fillna(0, inplace = True)"
   ]
  },
  {
   "cell_type": "code",
   "execution_count": 44,
   "metadata": {},
   "outputs": [],
   "source": [
    "test['wet_temp'] = test['PrecipTotal']*test['Tavg']\n",
    "test['wet_temp_roll'] = test['wet_temp'].rolling(3).mean()\n",
    "test['wet_temp_roll'].fillna(0, inplace = True)\n",
    "test['wet_temp_roll_shift14'] = test['wet_temp_roll'].shift(14)\n",
    "test['wet_temp_roll_shift14'].fillna(0, inplace = True)"
   ]
  },
  {
   "cell_type": "code",
   "execution_count": 45,
   "metadata": {},
   "outputs": [],
   "source": [
    "train = pd.get_dummies(train, columns = ['Block', 'Trap'])\n",
    "test = pd.get_dummies(test, columns = ['Block', 'Trap'])"
   ]
  },
  {
   "cell_type": "code",
   "execution_count": 46,
   "metadata": {},
   "outputs": [],
   "source": [
    "def date_split(df):\n",
    "    #breaking week, month, and year into separate columns\n",
    "    \n",
    "    df['Week'] = df['Date'].dt.week\n",
    "    df['Month'] = df['Date'].dt.month\n",
    "    df['Year'] = df['Date'].dt.year\n",
    "\n",
    "    #drop date column\n",
    "    df.drop(columns = 'Date', inplace = True)\n",
    "\n",
    "    #get dummies\n",
    "    return pd.get_dummies(df, columns = ['Week'])\n",
    "    return pd.get_dummies(df, columns = ['Month'])\n",
    "    return pd.get_dummies(df, columns = ['Year'])"
   ]
  },
  {
   "cell_type": "code",
   "execution_count": 47,
   "metadata": {},
   "outputs": [],
   "source": [
    "train.drop(columns = ['Date','Address','Street', 'AddressNumberAndStreet', 'Latitude', \\\n",
    "                      'Longitude', 'AddressAccuracy'], inplace = True)\\\n",
    "\n",
    "test.drop(columns = ['Date','Address','Street','AddressNumberAndStreet', 'Latitude', \\\n",
    "                      'Longitude', 'AddressAccuracy'], inplace = True)"
   ]
  },
  {
   "cell_type": "code",
   "execution_count": 1,
   "metadata": {},
   "outputs": [],
   "source": [
    "from sklearn.model_selection import train_test_split\n",
    "from sklearn.preprocessing import StandardScaler\n",
    "from sklearn.model_selection import cross_val_score, StratifiedKFold\n",
    "from sklearn.model_selection import GridSearchCV\n",
    "from sklearn.tree import DecisionTreeClassifier\n",
    "from sklearn.ensemble import RandomForestClassifier, ExtraTreesClassifier, BaggingClassifier\n",
    "from sklearn.ensemble import AdaBoostClassifier, GradientBoostingClassifier\n",
    "import xgboost as xgb\n",
    "from sklearn.utils import resample"
   ]
  },
  {
   "cell_type": "code",
   "execution_count": 159,
   "metadata": {},
   "outputs": [],
   "source": [
    "X = train.drop(columns = 'WnvPresent')\n",
    "y = train['WnvPresent']"
   ]
  },
  {
   "cell_type": "code",
   "execution_count": 160,
   "metadata": {},
   "outputs": [],
   "source": [
    "X_train, X_test, y_train, y_test = train_test_split(X, y, test_size = 0.3, random_state = 42, stratify = y)"
   ]
  },
  {
   "cell_type": "code",
   "execution_count": 161,
   "metadata": {},
   "outputs": [],
   "source": [
    "traindata = X_train.merge(pd.DataFrame(y_train), how = 'left', right_index = True, left_index = True)\n",
    "train_majority = traindata[traindata['WnvPresent'] == 0]\n",
    "train_minority = traindata[traindata['WnvPresent'] == 1]\n",
    "train_minority_upsampled = resample(train_minority, \n",
    "                                     replace = True, \n",
    "                                     n_samples = train_majority.shape[0],\n",
    "                                     random_state = 42)\n",
    "\n",
    "train_data_upsampled = pd.concat([train_majority, train_minority_upsampled])\n",
    "X_train = train_data_upsampled.drop(columns = 'WnvPresent')\n",
    "y_train = train_data_upsampled['WnvPresent']"
   ]
  },
  {
   "cell_type": "code",
   "execution_count": 162,
   "metadata": {},
   "outputs": [
    {
     "data": {
      "text/plain": [
       "1    6968\n",
       "0    6968\n",
       "Name: WnvPresent, dtype: int64"
      ]
     },
     "execution_count": 162,
     "metadata": {},
     "output_type": "execute_result"
    }
   ],
   "source": [
    "y_train.value_counts()"
   ]
  },
  {
   "cell_type": "code",
   "execution_count": 163,
   "metadata": {},
   "outputs": [],
   "source": [
    "def drop_columns(df1, df2):\n",
    "    #drop columns in either test/train that are not in the other\n",
    "    \n",
    "    df1cols = df1.columns.tolist()\n",
    "    df2cols = df2.columns.tolist()\n",
    "    \n",
    "    notindf1cols = []\n",
    "    notindf2cols = []\n",
    "    \n",
    "    for col in df1cols:\n",
    "        if col not in df2cols:\n",
    "            notindf2cols.append(col)\n",
    "    \n",
    "    for col in df2cols:\n",
    "        if col not in df1cols:\n",
    "            notindf1cols.append(col)\n",
    "            \n",
    "    df1.drop(columns = notindf2cols, inplace = True)\n",
    "    df2.drop(columns = notindf1cols, inplace = True)"
   ]
  },
  {
   "cell_type": "code",
   "execution_count": 142,
   "metadata": {},
   "outputs": [
    {
     "ename": "AttributeError",
     "evalue": "'numpy.ndarray' object has no attribute 'columns'",
     "output_type": "error",
     "traceback": [
      "\u001b[1;31m---------------------------------------------------------------------------\u001b[0m",
      "\u001b[1;31mAttributeError\u001b[0m                            Traceback (most recent call last)",
      "\u001b[1;32m<ipython-input-142-bc3df15466d6>\u001b[0m in \u001b[0;36m<module>\u001b[1;34m()\u001b[0m\n\u001b[1;32m----> 1\u001b[1;33m \u001b[0mdrop_columns\u001b[0m\u001b[1;33m(\u001b[0m\u001b[0mtest\u001b[0m\u001b[1;33m,\u001b[0m \u001b[0mX_test\u001b[0m\u001b[1;33m)\u001b[0m\u001b[1;33m\u001b[0m\u001b[0m\n\u001b[0m\u001b[0;32m      2\u001b[0m \u001b[0mdrop_columns\u001b[0m\u001b[1;33m(\u001b[0m\u001b[0mX_train\u001b[0m\u001b[1;33m,\u001b[0m \u001b[0mX_test\u001b[0m\u001b[1;33m)\u001b[0m\u001b[1;33m\u001b[0m\u001b[0m\n",
      "\u001b[1;32m<ipython-input-141-a9e377a4cce1>\u001b[0m in \u001b[0;36mdrop_columns\u001b[1;34m(df1, df2)\u001b[0m\n\u001b[0;32m      2\u001b[0m     \u001b[1;31m#drop columns in either test/train that are not in the other\u001b[0m\u001b[1;33m\u001b[0m\u001b[1;33m\u001b[0m\u001b[0m\n\u001b[0;32m      3\u001b[0m \u001b[1;33m\u001b[0m\u001b[0m\n\u001b[1;32m----> 4\u001b[1;33m     \u001b[0mdf1cols\u001b[0m \u001b[1;33m=\u001b[0m \u001b[0mdf1\u001b[0m\u001b[1;33m.\u001b[0m\u001b[0mcolumns\u001b[0m\u001b[1;33m.\u001b[0m\u001b[0mtolist\u001b[0m\u001b[1;33m(\u001b[0m\u001b[1;33m)\u001b[0m\u001b[1;33m\u001b[0m\u001b[0m\n\u001b[0m\u001b[0;32m      5\u001b[0m     \u001b[0mdf2cols\u001b[0m \u001b[1;33m=\u001b[0m \u001b[0mdf2\u001b[0m\u001b[1;33m.\u001b[0m\u001b[0mcolumns\u001b[0m\u001b[1;33m.\u001b[0m\u001b[0mtolist\u001b[0m\u001b[1;33m(\u001b[0m\u001b[1;33m)\u001b[0m\u001b[1;33m\u001b[0m\u001b[0m\n\u001b[0;32m      6\u001b[0m \u001b[1;33m\u001b[0m\u001b[0m\n",
      "\u001b[1;31mAttributeError\u001b[0m: 'numpy.ndarray' object has no attribute 'columns'"
     ]
    }
   ],
   "source": [
    "drop_columns(test, X_test)\n",
    "drop_columns(X_train, X_test)"
   ]
  },
  {
   "cell_type": "code",
   "execution_count": 164,
   "metadata": {},
   "outputs": [],
   "source": [
    "cv = StratifiedKFold(n_splits = 5, shuffle = True, random_state = 42)"
   ]
  },
  {
   "cell_type": "code",
   "execution_count": null,
   "metadata": {},
   "outputs": [],
   "source": [
    "adamodel = AdaBoostClassifier(n_estimators=100) \n",
    "ada_scores = cross_val_score(adamodel, X_train, y_train, cv=5)\n",
    "adamodel.fit(X_train,y_train)\n",
    "adamodel.score(X_train,y_train)\n",
    "y_preds = model.predict_proba(X_test)\n",
    "metrics.roc_auc_score(y_test,y_preds)"
   ]
  },
  {
   "cell_type": "code",
   "execution_count": 118,
   "metadata": {},
   "outputs": [],
   "source": [
    "xgmodel= xgb.XGBClassifier(seed= 42)\n",
    "eval_set = [(X_train, y_train), (X_test, y_test)]\n",
    "scores = cross_val_score(xgb.XGBClassifier(), X_train, y_train, cv = 5, n_jobs = -1)\n",
    "xgmodel.fit(X_train, y_train, eval_metric=\"auc\", eval_set=eval_set, verbose=True)"
   ]
  },
  {
   "cell_type": "code",
   "execution_count": 119,
   "metadata": {},
   "outputs": [],
   "source": [
    "xgmodel.score(X_test, y_test)"
   ]
  },
  {
   "cell_type": "code",
   "execution_count": 120,
   "metadata": {},
   "outputs": [],
   "source": [
    "test_names = test.columns.tolist()\n",
    "xg_importances = pd.DataFrame(sorted(zip(test_names, xgmodel.feature_importances_), reverse = True), columns = ['Variable', 'Importance']).set_index('Variable')"
   ]
  },
  {
   "cell_type": "code",
   "execution_count": 121,
   "metadata": {},
   "outputs": [],
   "source": [
    "xg_importances.sort_values(by = 'Importance', ascending = False).iloc[:20,:].plot(kind = 'bar')\n",
    "plt.title('XGBoost Feature Importances')"
   ]
  },
  {
   "cell_type": "code",
   "execution_count": 122,
   "metadata": {},
   "outputs": [],
   "source": [
    "from sklearn.metrics import classification_report , confusion_matrix\n",
    "\n",
    "print(classification_report(y_test, xgmodel.predict(X_test)))\n",
    "print(confusion_matrix(y_test, xgmodel.predict(X_test)))"
   ]
  },
  {
   "cell_type": "code",
   "execution_count": 165,
   "metadata": {},
   "outputs": [],
   "source": [
    "from keras.models import Sequential\n",
    "from keras.layers import Dense, Dropout\n",
    "from keras import regularizers"
   ]
  },
  {
   "cell_type": "code",
   "execution_count": 167,
   "metadata": {},
   "outputs": [],
   "source": [
    "#testnames = test.columns.tolist()\n",
    "\n",
    "ss = StandardScaler()\n",
    "X_train = ss.fit_transform(X_train)\n",
    "X_test = ss.transform(X_test)\n",
    "\n",
    "test = ss.transform(test)\n",
    "model = Sequential()"
   ]
  },
  {
   "cell_type": "code",
   "execution_count": 168,
   "metadata": {},
   "outputs": [],
   "source": [
    "#network topolgy\n",
    "input_units = X_train.shape[1]\n",
    "hidden_units = 200\n",
    "\n",
    "model.add(Dense(hidden_units, \n",
    "                input_dim = input_units, \n",
    "                activation = 'relu',\n",
    "                kernel_regularizer=regularizers.l2(0.001)))\n",
    "model.add(Dense(hidden_units, \n",
    "               activation = 'relu',))\n",
    "model.add(Dense(1, activation = 'sigmoid'))"
   ]
  },
  {
   "cell_type": "code",
   "execution_count": 169,
   "metadata": {},
   "outputs": [],
   "source": [
    "#compile the model\n",
    "model.compile(loss = 'binary_crossentropy',\n",
    "              optimizer = 'adam',\n",
    "              metrics = ['binary_accuracy'])"
   ]
  },
  {
   "cell_type": "code",
   "execution_count": 173,
   "metadata": {},
   "outputs": [
    {
     "name": "stdout",
     "output_type": "stream",
     "text": [
      "Train on 13936 samples, validate on 3152 samples\n",
      "Epoch 1/20\n",
      "13936/13936 [==============================] - 1s 90us/step - loss: 0.2323 - binary_accuracy: 0.9292 - val_loss: 0.5546 - val_binary_accuracy: 0.8414\n",
      "Epoch 2/20\n",
      "13936/13936 [==============================] - 1s 91us/step - loss: 0.2322 - binary_accuracy: 0.9298 - val_loss: 0.5937 - val_binary_accuracy: 0.8204\n",
      "Epoch 3/20\n",
      "13936/13936 [==============================] - 1s 84us/step - loss: 0.2292 - binary_accuracy: 0.9298 - val_loss: 0.5688 - val_binary_accuracy: 0.8388\n",
      "Epoch 4/20\n",
      "13936/13936 [==============================] - 1s 83us/step - loss: 0.2231 - binary_accuracy: 0.9318 - val_loss: 0.5500 - val_binary_accuracy: 0.8458\n",
      "Epoch 5/20\n",
      "13936/13936 [==============================] - 1s 83us/step - loss: 0.2271 - binary_accuracy: 0.9309 - val_loss: 0.5345 - val_binary_accuracy: 0.8420\n",
      "Epoch 6/20\n",
      "13936/13936 [==============================] - 1s 84us/step - loss: 0.2345 - binary_accuracy: 0.9262 - val_loss: 0.5761 - val_binary_accuracy: 0.8382\n",
      "Epoch 7/20\n",
      "13936/13936 [==============================] - 1s 98us/step - loss: 0.2241 - binary_accuracy: 0.9324 - val_loss: 0.5677 - val_binary_accuracy: 0.8379\n",
      "Epoch 8/20\n",
      "13936/13936 [==============================] - 1s 89us/step - loss: 0.2303 - binary_accuracy: 0.9313 - val_loss: 0.5724 - val_binary_accuracy: 0.8363\n",
      "Epoch 9/20\n",
      "13936/13936 [==============================] - 1s 94us/step - loss: 0.2233 - binary_accuracy: 0.9318 - val_loss: 0.5605 - val_binary_accuracy: 0.8357\n",
      "Epoch 10/20\n",
      "13936/13936 [==============================] - 1s 91us/step - loss: 0.2270 - binary_accuracy: 0.9288 - val_loss: 0.5467 - val_binary_accuracy: 0.8471\n",
      "Epoch 11/20\n",
      "13936/13936 [==============================] - 1s 86us/step - loss: 0.2242 - binary_accuracy: 0.9322 - val_loss: 0.5576 - val_binary_accuracy: 0.8369\n",
      "Epoch 12/20\n",
      "13936/13936 [==============================] - 1s 86us/step - loss: 0.2241 - binary_accuracy: 0.9319 - val_loss: 0.5348 - val_binary_accuracy: 0.8458\n",
      "Epoch 13/20\n",
      "13936/13936 [==============================] - 1s 87us/step - loss: 0.2230 - binary_accuracy: 0.9298 - val_loss: 0.5564 - val_binary_accuracy: 0.8455\n",
      "Epoch 14/20\n",
      "13936/13936 [==============================] - 1s 88us/step - loss: 0.2235 - binary_accuracy: 0.9315 - val_loss: 0.5295 - val_binary_accuracy: 0.8455\n",
      "Epoch 15/20\n",
      "13936/13936 [==============================] - 1s 85us/step - loss: 0.2211 - binary_accuracy: 0.9328 - val_loss: 0.5567 - val_binary_accuracy: 0.8388\n",
      "Epoch 16/20\n",
      "13936/13936 [==============================] - 1s 84us/step - loss: 0.2226 - binary_accuracy: 0.9324 - val_loss: 0.5567 - val_binary_accuracy: 0.8471\n",
      "Epoch 17/20\n",
      "13936/13936 [==============================] - 1s 84us/step - loss: 0.2203 - binary_accuracy: 0.9336 - val_loss: 0.5476 - val_binary_accuracy: 0.8484\n",
      "Epoch 18/20\n",
      "13936/13936 [==============================] - 1s 85us/step - loss: 0.2242 - binary_accuracy: 0.9310 - val_loss: 0.5557 - val_binary_accuracy: 0.8407\n",
      "Epoch 19/20\n",
      "13936/13936 [==============================] - 1s 86us/step - loss: 0.2266 - binary_accuracy: 0.9320 - val_loss: 0.5531 - val_binary_accuracy: 0.8439\n",
      "Epoch 20/20\n",
      "13936/13936 [==============================] - 1s 84us/step - loss: 0.2351 - binary_accuracy: 0.9310 - val_loss: 0.5439 - val_binary_accuracy: 0.8480\n"
     ]
    }
   ],
   "source": [
    "#train the model\n",
    "history = model.fit(X_train, y_train,\n",
    "                   validation_data = (X_test, y_test),\n",
    "                   epochs = 20, \n",
    "                   batch_size = None, \n",
    "                   verbose = 1)"
   ]
  },
  {
   "cell_type": "code",
   "execution_count": 172,
   "metadata": {},
   "outputs": [],
   "source": [
    "#predicting values for submission\n",
    "#submission = pd.DataFrame(xgmodel.predict_proba(test)[:,1], columns = ['WnvPresent'])\n",
    "submission = pd.DataFrame(model.predict_proba(test), columns = ['WnvPresent'])\n",
    "submission.set_index(np.arange(1, test.shape[0] + 1), inplace=True)\n",
    "submission = submission.reset_index().rename(columns = {'index':'Id'})\n",
    "submission.to_csv('./submission.csv', index = False)"
   ]
  },
  {
   "cell_type": "code",
   "execution_count": null,
   "metadata": {},
   "outputs": [],
   "source": []
  }
 ],
 "metadata": {
  "kernelspec": {
   "display_name": "Python 3",
   "language": "python",
   "name": "python3"
  },
  "language_info": {
   "codemirror_mode": {
    "name": "ipython",
    "version": 3
   },
   "file_extension": ".py",
   "mimetype": "text/x-python",
   "name": "python",
   "nbconvert_exporter": "python",
   "pygments_lexer": "ipython3",
   "version": "3.6.5"
  }
 },
 "nbformat": 4,
 "nbformat_minor": 2
}
